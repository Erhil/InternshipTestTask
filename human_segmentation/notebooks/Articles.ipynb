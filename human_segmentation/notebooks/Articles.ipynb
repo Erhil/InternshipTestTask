{
 "cells": [
  {
   "cell_type": "markdown",
   "metadata": {},
   "source": [
    "* https://arxiv.org/pdf/1505.04597.pdf -- U-net (2015)\n",
    "* https://arxiv.org/pdf/1706.05587.pdf -- DeepLabV3+ (2017)\n",
    "    * https://arxiv.org/pdf/1802.02611v3.pdf -- (2018)\n",
    "    * https://arxiv.org/pdf/1210.5644.pdf -- CRFs (2012)\n",
    "* https://arxiv.org/pdf/1612.01105.pdf -- PSPNet (2017)\n",
    "* https://arxiv.org/pdf/1902.09212.pdf -- HRNetV2 (2019)\n",
    "* https://arxiv.org/pdf/1810.11579.pdf -- $A^2$ Nets (2018)"
   ]
  },
  {
   "cell_type": "code",
   "execution_count": null,
   "metadata": {},
   "outputs": [],
   "source": []
  }
 ],
 "metadata": {
  "kernelspec": {
   "display_name": "Python 3",
   "language": "python",
   "name": "python3"
  },
  "language_info": {
   "codemirror_mode": {
    "name": "ipython",
    "version": 3
   },
   "file_extension": ".py",
   "mimetype": "text/x-python",
   "name": "python",
   "nbconvert_exporter": "python",
   "pygments_lexer": "ipython3",
   "version": "3.7.1"
  }
 },
 "nbformat": 4,
 "nbformat_minor": 2
}
